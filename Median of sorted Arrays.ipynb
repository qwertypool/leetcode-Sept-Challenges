{
 "cells": [
  {
   "cell_type": "markdown",
   "metadata": {},
   "source": [
    "##  Median of Two Sorted Arrays (Hard)\n",
    "\n",
    "\n",
    "Given two sorted arrays nums1 and nums2 of size m and n respectively, return the median of the two sorted arrays.\n",
    "\n",
    "Follow up: The overall run time complexity should be O(log (m+n)).\n",
    "\n",
    "Example 1:\n",
    "\n",
    "Input: nums1 = [1,3], nums2 = [2]\n",
    "Output: 2.00000\n",
    "Explanation: merged array = [1,2,3] and median is 2.\n",
    "\n",
    "Constraints:\n",
    "nums1.length == m\n",
    "nums2.length == n\n",
    "0 <= m <= 1000\n",
    "0 <= n <= 1000\n",
    "1 <= m + n <= 2000\n",
    "-106 <= nums1[i], nums2[i] <= 106"
   ]
  },
  {
   "cell_type": "code",
   "execution_count": 35,
   "metadata": {},
   "outputs": [
    {
     "name": "stdout",
     "output_type": "stream",
     "text": [
      "11.0\n"
     ]
    }
   ],
   "source": [
    "import math\n",
    "def findMedianSortedArrays(nums1,nums2):\n",
    "    nums3 = nums1\n",
    "    nums3.extend(nums2)\n",
    "    nums3=sorted(nums3)\n",
    "    if len(nums3)%2==0:\n",
    "        x=len(nums3)//2\n",
    "        res = (nums3[x]+nums3[x-1])/2\n",
    "    else:\n",
    "        z = len(nums3)//2\n",
    "        index = math.ceil(z)\n",
    "        res = nums3[index]\n",
    "    result = float(res)\n",
    "    return (result)\n",
    "            \n",
    "print(findMedianSortedArrays([1,3,5,7,9,11,13],[2,6,8,12,15,21,24,36,98,105]))"
   ]
  }
 ],
 "metadata": {
  "kernelspec": {
   "display_name": "Python 3",
   "language": "python",
   "name": "python3"
  },
  "language_info": {
   "codemirror_mode": {
    "name": "ipython",
    "version": 3
   },
   "file_extension": ".py",
   "mimetype": "text/x-python",
   "name": "python",
   "nbconvert_exporter": "python",
   "pygments_lexer": "ipython3",
   "version": "3.8.3"
  }
 },
 "nbformat": 4,
 "nbformat_minor": 4
}
